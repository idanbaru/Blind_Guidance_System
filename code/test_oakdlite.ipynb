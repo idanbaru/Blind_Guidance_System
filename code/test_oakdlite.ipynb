{
 "cells": [
  {
   "cell_type": "code",
   "execution_count": null,
   "metadata": {},
   "outputs": [],
   "source": [
    "import cv2\n",
    "import torch\n",
    "import depthai as dai\n",
    "print('cv2 cuda enabled:' ,bool(cv2.cuda.getCudaEnabledDeviceCount()))\n",
    "print('torch using device:', torch.cuda.get_device_name(0))"
   ]
  },
  {
   "cell_type": "code",
   "execution_count": null,
   "metadata": {},
   "outputs": [],
   "source": [
    "### NO GPU SUPPORT\n",
    "# Create a pipeline\n",
    "pipeline = dai.Pipeline()\n",
    "\n",
    "# Define a source - color camera\n",
    "cam_rgb = pipeline.create(dai.node.ColorCamera)\n",
    "#cam_rgb.setBoardSocket(dai.CameraBoardSocket.RGB)\n",
    "cam_rgb.setBoardSocket(dai.CameraBoardSocket.CAM_A)\n",
    "cam_rgb.setPreviewSize(300, 300)\n",
    "\n",
    "# Create an output\n",
    "xout = pipeline.create(dai.node.XLinkOut)\n",
    "xout.setStreamName(\"video\")\n",
    "cam_rgb.preview.link(xout.input)\n",
    "\n",
    "# Connect to device and start pipeline\n",
    "with dai.Device(pipeline) as device:\n",
    "    q_video = device.getOutputQueue(\"video\", maxSize=8, blocking=False)\n",
    "    \n",
    "    while True:\n",
    "        frame = q_video.get().getCvFrame()\n",
    "        cv2.imshow(\"OAK-D Lite Preview\", frame)\n",
    "\n",
    "        if cv2.waitKey(1) == ord('q'):\n",
    "            break\n",
    "\n",
    "cv2.destroyAllWindows()"
   ]
  },
  {
   "cell_type": "code",
   "execution_count": null,
   "metadata": {},
   "outputs": [],
   "source": [
    "### WITH GPU SUPPORT\n",
    "# Create a pipeline\n",
    "pipeline = dai.Pipeline()\n",
    "\n",
    "# Define a source - color camera\n",
    "cam_rgb = pipeline.create(dai.node.ColorCamera)\n",
    "cam_rgb.setBoardSocket(dai.CameraBoardSocket.CAM_A)\n",
    "cam_rgb.setPreviewSize(300, 300)\n",
    "\n",
    "# Create an output\n",
    "xout = pipeline.create(dai.node.XLinkOut)\n",
    "xout.setStreamName(\"video\")\n",
    "cam_rgb.preview.link(xout.input)\n",
    "\n",
    "# Connect to device and start pipeline\n",
    "with dai.Device(pipeline) as device:\n",
    "    q_video = device.getOutputQueue(\"video\", maxSize=8, blocking=False)\n",
    "    \n",
    "    while True:\n",
    "        frame = q_video.get().getCvFrame()\n",
    "\n",
    "        # Upload frame to GPU\n",
    "        gpu_frame = cv2.cuda_GpuMat()\n",
    "        gpu_frame.upload(frame)\n",
    "\n",
    "        # Convert color (if needed)\n",
    "        gpu_frame = cv2.cuda.cvtColor(gpu_frame, cv2.COLOR_BGR2RGB)\n",
    "\n",
    "        # Resize using GPU\n",
    "        gpu_frame = cv2.cuda.resize(gpu_frame, (640, 640))  # Adjust as needed\n",
    "\n",
    "        # Download back to CPU only for display\n",
    "        frame = gpu_frame.download()\n",
    "\n",
    "        # Display optimized frame\n",
    "        cv2.imshow(\"OAK-D Lite Preview (CUDA)\", frame)\n",
    "\n",
    "        if cv2.waitKey(1) == ord('q'):\n",
    "            break\n",
    "\n",
    "cv2.destroyAllWindows()"
   ]
  },
  {
   "cell_type": "code",
   "execution_count": null,
   "metadata": {},
   "outputs": [],
   "source": []
  }
 ],
 "metadata": {
  "kernelspec": {
   "display_name": "Python 3 (ipykernel)",
   "language": "python",
   "name": "python3"
  },
  "language_info": {
   "codemirror_mode": {
    "name": "ipython",
    "version": 3
   },
   "file_extension": ".py",
   "mimetype": "text/x-python",
   "name": "python",
   "nbconvert_exporter": "python",
   "pygments_lexer": "ipython3",
   "version": "3.6.9"
  }
 },
 "nbformat": 4,
 "nbformat_minor": 4
}
